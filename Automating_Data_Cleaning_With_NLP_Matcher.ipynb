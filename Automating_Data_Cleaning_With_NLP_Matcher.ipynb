{
  "nbformat": 4,
  "nbformat_minor": 0,
  "metadata": {
    "colab": {
      "name": "Automating Data Cleaning With NLP Matcher.ipynb",
      "provenance": [],
      "collapsed_sections": [],
      "authorship_tag": "ABX9TyNEsr8cnO65sng8CoJWLq9v"
    },
    "kernelspec": {
      "name": "python3",
      "display_name": "Python 3"
    },
    "language_info": {
      "name": "python"
    }
  },
  "cells": [
    {
      "cell_type": "markdown",
      "metadata": {
        "id": "A0Jboc38OB7h"
      },
      "source": [
        "# **Automating Data Cleaning with NLP Matcher**\n",
        "\n",
        "* [Project Description](#project-description)\n",
        "* [Preparing the Data](#preparing-the-data)\n",
        "  * [Removing Emoji](#removing-emoji)\n",
        "  * [Removing Stopwords](#removing-stopwords)\n",
        "  * [Removing Low-value Words](#removing-low-value-words)\n",
        "  * [Replacing Special Characters](#replacing-special-characters)\n",
        "  * [Correcting Spelling Mistakes](#correcting-spelling-mistakes)\n",
        "* [Bucketing the Data](#bucketing-the-data)\n",
        "  * [Retrieving Car Brands](#retrieving-car-brands)\n",
        "  * [Inferring Car Brands](#inferring-car-brands)\n",
        "  * [Standardizing Car Brands](#standardizing-car-brands)\n",
        "  * [Associating Listings to Car Model](#associating-listings-to-car-model)\n",
        "* [Visualizing the Data](#visualizing-the-data)\n",
        "* [Evaluating Accuracy](#evaluating-accuracy)"
      ]
    },
    {
      "cell_type": "markdown",
      "metadata": {
        "id": "d63kmy8HOvWp"
      },
      "source": [
        "# Project Description <a name=\"project-description\"></a>\n",
        "\"How much is it?\"\n",
        "\n",
        "When selling any product or services, it's crucial to get the pricing strategy **_just_** right. Sell too cheap and you're leaving money on the table; Sell too expensive and you risk losing market share. \n",
        "\n",
        "To achieve the perfect balance between the two, businesses often rely on market intel reports to give them a glimpse of their competitors pricing strategy. With the e-commerce industry thriving, we are now able to pull much of the information we need from the internet to serve as the foundation of our market analysis.\n",
        "\n",
        "But as with most data found online—they're dirtier than the overdue dishes by the sink. Depending on the size of the data, it may be unrealistic to clean everything manually. The idea is to offload portions of the cleaning to scripts while not compromising the accuracy.\n",
        "\n",
        "In this particular project, I'd like to explore the automotive spare part market in Malaysia. The focus of the project will be primarily on automating data cleaning with Natural Language Processing's matcher. The goal is to automate as much of the cleaning as possible so that businesses won't have to deploy an absurb amount of resources to produce their own market intel report."
      ]
    },
    {
      "cell_type": "markdown",
      "metadata": {
        "id": "mH7PA6fOuEMJ"
      },
      "source": [
        "# Preparing the Data <a name=\"preparing-the-data\"></a>"
      ]
    },
    {
      "cell_type": "code",
      "metadata": {
        "id": "pvaZY3i5Yc_n",
        "colab": {
          "base_uri": "https://localhost:8080/"
        },
        "outputId": "ed47b257-ad68-4197-b7f9-0772166d6679"
      },
      "source": [
        "import pandas as pd\n",
        "import numpy as np\n",
        "import re\n",
        "import statistics\n",
        "\n",
        "import datetime\n",
        "from datetime import date\n",
        "from dateutil.relativedelta import relativedelta\n",
        "\n",
        "import matplotlib as mpl\n",
        "import matplotlib.pyplot as plt\n",
        "import seaborn as sns\n",
        "\n",
        "!pip install emoji\n",
        "import emoji\n",
        "import string\n",
        "\n",
        "!pip install pyxDamerauLevenshtein\n",
        "from pyxdameraulevenshtein import normalized_damerau_levenshtein_distance_seqs\n",
        "\n",
        "import spacy\n",
        "from spacy import displacy\n",
        "from spacy.matcher import Matcher\n",
        "from spacy.tokens import Doc\n",
        "nlp = spacy.load('en_core_web_sm')"
      ],
      "execution_count": 1,
      "outputs": [
        {
          "output_type": "stream",
          "text": [
            "Requirement already satisfied: emoji in /usr/local/lib/python3.7/dist-packages (1.2.0)\n",
            "Requirement already satisfied: pyxDamerauLevenshtein in /usr/local/lib/python3.7/dist-packages (1.7.0)\n"
          ],
          "name": "stdout"
        }
      ]
    },
    {
      "cell_type": "markdown",
      "metadata": {
        "id": "b2UZCmB4KIbt"
      },
      "source": [
        "The online listings I scraped was loosely structured, featuring a free-style title and description. They don't a specific field for car brands or model and therefore it is up to the vendors to communicate that through the title and description only.\n",
        "\n",
        "To create any meaningful insight, I would like to label them to their respective car brands and models so that a certain level of granularity can be achieved in our report."
      ]
    },
    {
      "cell_type": "code",
      "metadata": {
        "colab": {
          "base_uri": "https://localhost:8080/",
          "height": 206
        },
        "id": "Y-JFX0RtKBCi",
        "outputId": "7376444a-deb2-45d3-8225-a92c2a04a6c5"
      },
      "source": [
        "df_ori = pd.read_csv('scraped_data.csv')\n",
        "df_ori.head()"
      ],
      "execution_count": 2,
      "outputs": [
        {
          "output_type": "execute_result",
          "data": {
            "text/html": [
              "<div>\n",
              "<style scoped>\n",
              "    .dataframe tbody tr th:only-of-type {\n",
              "        vertical-align: middle;\n",
              "    }\n",
              "\n",
              "    .dataframe tbody tr th {\n",
              "        vertical-align: top;\n",
              "    }\n",
              "\n",
              "    .dataframe thead th {\n",
              "        text-align: right;\n",
              "    }\n",
              "</style>\n",
              "<table border=\"1\" class=\"dataframe\">\n",
              "  <thead>\n",
              "    <tr style=\"text-align: right;\">\n",
              "      <th></th>\n",
              "      <th>LISTING DATE</th>\n",
              "      <th>LISTING TITLE</th>\n",
              "      <th>PRICE</th>\n",
              "      <th>LISTING DESCRIPTION</th>\n",
              "      <th>LISTING LOCATION</th>\n",
              "    </tr>\n",
              "  </thead>\n",
              "  <tbody>\n",
              "    <tr>\n",
              "      <th>0</th>\n",
              "      <td>2020 Jan 10, 15:10</td>\n",
              "      <td>Honda Stream RN6 RN8 RSZ Power Steering Rack ECU</td>\n",
              "      <td>RM250</td>\n",
              "      <td>Genuine Honda Stream Power Steering Rack ECU C...</td>\n",
              "      <td>Selangor</td>\n",
              "    </tr>\n",
              "    <tr>\n",
              "      <th>1</th>\n",
              "      <td>2020 Jan 10, 12:00</td>\n",
              "      <td>Original steering rack toyota vellfire estima ...</td>\n",
              "      <td>RM350</td>\n",
              "      <td>Original steering rack toyota vellfire estima ...</td>\n",
              "      <td>Kuala Lumpur</td>\n",
              "    </tr>\n",
              "    <tr>\n",
              "      <th>2</th>\n",
              "      <td>2020 Jan 10, 12:00</td>\n",
              "      <td>Original steering rack toyota vellfire estima ...</td>\n",
              "      <td>RM600</td>\n",
              "      <td>Original steering rack toyota vellfire estima ...</td>\n",
              "      <td>Kuala Lumpur</td>\n",
              "    </tr>\n",
              "    <tr>\n",
              "      <th>3</th>\n",
              "      <td>2020 Jan 9, 19:35</td>\n",
              "      <td>ORIGINAL steering rack Alphard estima harrier</td>\n",
              "      <td>RM550</td>\n",
              "      <td>Estima acr30\\nHarrier acu30\\nAlphard anh10 mnh...</td>\n",
              "      <td>Kuala Lumpur</td>\n",
              "    </tr>\n",
              "    <tr>\n",
              "      <th>4</th>\n",
              "      <td>2020 Jan 9, 12:20</td>\n",
              "      <td>Toyota Isis ANM10 Power Steering Rack</td>\n",
              "      <td>RM250</td>\n",
              "      <td>Toyota Isis ANM10 Power Steering Rack\\nImporte...</td>\n",
              "      <td>Selangor</td>\n",
              "    </tr>\n",
              "  </tbody>\n",
              "</table>\n",
              "</div>"
            ],
            "text/plain": [
              "         LISTING DATE  ... LISTING LOCATION\n",
              "0  2020 Jan 10, 15:10  ...         Selangor\n",
              "1  2020 Jan 10, 12:00  ...     Kuala Lumpur\n",
              "2  2020 Jan 10, 12:00  ...     Kuala Lumpur\n",
              "3   2020 Jan 9, 19:35  ...     Kuala Lumpur\n",
              "4   2020 Jan 9, 12:20  ...         Selangor\n",
              "\n",
              "[5 rows x 5 columns]"
            ]
          },
          "metadata": {
            "tags": []
          },
          "execution_count": 2
        }
      ]
    },
    {
      "cell_type": "code",
      "metadata": {
        "id": "ohzclB_BuHL7",
        "colab": {
          "base_uri": "https://localhost:8080/",
          "height": 310
        },
        "outputId": "e6dbe2c0-ab29-4371-ced3-1344e7cd60e7"
      },
      "source": [
        "df = df_ori.copy()\n",
        "\n",
        "df = df.replace(np.nan, '')\n",
        "df = df.fillna('')\n",
        "\n",
        "df['LISTING TITLE_copy'] = df['LISTING TITLE']\n",
        "df['LISTING DESCRIPTION_copy'] = df['LISTING DESCRIPTION']\n",
        "\n",
        "df['LISTING DATE_month'] = [datetime.datetime.strptime(yearMonth, '%Y %b %d, %H:%S').strftime('%Y-%m') for yearMonth in df['LISTING DATE']]\n",
        "df['PRICE'] = df['PRICE'].str.replace('RM', '').str.replace(',', '').astype(int)\n",
        "\n",
        "df.head()"
      ],
      "execution_count": 3,
      "outputs": [
        {
          "output_type": "execute_result",
          "data": {
            "text/html": [
              "<div>\n",
              "<style scoped>\n",
              "    .dataframe tbody tr th:only-of-type {\n",
              "        vertical-align: middle;\n",
              "    }\n",
              "\n",
              "    .dataframe tbody tr th {\n",
              "        vertical-align: top;\n",
              "    }\n",
              "\n",
              "    .dataframe thead th {\n",
              "        text-align: right;\n",
              "    }\n",
              "</style>\n",
              "<table border=\"1\" class=\"dataframe\">\n",
              "  <thead>\n",
              "    <tr style=\"text-align: right;\">\n",
              "      <th></th>\n",
              "      <th>LISTING DATE</th>\n",
              "      <th>LISTING TITLE</th>\n",
              "      <th>PRICE</th>\n",
              "      <th>LISTING DESCRIPTION</th>\n",
              "      <th>LISTING LOCATION</th>\n",
              "      <th>LISTING TITLE_copy</th>\n",
              "      <th>LISTING DESCRIPTION_copy</th>\n",
              "      <th>LISTING DATE_month</th>\n",
              "    </tr>\n",
              "  </thead>\n",
              "  <tbody>\n",
              "    <tr>\n",
              "      <th>0</th>\n",
              "      <td>2020 Jan 10, 15:10</td>\n",
              "      <td>Honda Stream RN6 RN8 RSZ Power Steering Rack ECU</td>\n",
              "      <td>250</td>\n",
              "      <td>Genuine Honda Stream Power Steering Rack ECU C...</td>\n",
              "      <td>Selangor</td>\n",
              "      <td>Honda Stream RN6 RN8 RSZ Power Steering Rack ECU</td>\n",
              "      <td>Genuine Honda Stream Power Steering Rack ECU C...</td>\n",
              "      <td>2020-01</td>\n",
              "    </tr>\n",
              "    <tr>\n",
              "      <th>1</th>\n",
              "      <td>2020 Jan 10, 12:00</td>\n",
              "      <td>Original steering rack toyota vellfire estima ...</td>\n",
              "      <td>350</td>\n",
              "      <td>Original steering rack toyota vellfire estima ...</td>\n",
              "      <td>Kuala Lumpur</td>\n",
              "      <td>Original steering rack toyota vellfire estima ...</td>\n",
              "      <td>Original steering rack toyota vellfire estima ...</td>\n",
              "      <td>2020-01</td>\n",
              "    </tr>\n",
              "    <tr>\n",
              "      <th>2</th>\n",
              "      <td>2020 Jan 10, 12:00</td>\n",
              "      <td>Original steering rack toyota vellfire estima ...</td>\n",
              "      <td>600</td>\n",
              "      <td>Original steering rack toyota vellfire estima ...</td>\n",
              "      <td>Kuala Lumpur</td>\n",
              "      <td>Original steering rack toyota vellfire estima ...</td>\n",
              "      <td>Original steering rack toyota vellfire estima ...</td>\n",
              "      <td>2020-01</td>\n",
              "    </tr>\n",
              "    <tr>\n",
              "      <th>3</th>\n",
              "      <td>2020 Jan 9, 19:35</td>\n",
              "      <td>ORIGINAL steering rack Alphard estima harrier</td>\n",
              "      <td>550</td>\n",
              "      <td>Estima acr30\\nHarrier acu30\\nAlphard anh10 mnh...</td>\n",
              "      <td>Kuala Lumpur</td>\n",
              "      <td>ORIGINAL steering rack Alphard estima harrier</td>\n",
              "      <td>Estima acr30\\nHarrier acu30\\nAlphard anh10 mnh...</td>\n",
              "      <td>2020-01</td>\n",
              "    </tr>\n",
              "    <tr>\n",
              "      <th>4</th>\n",
              "      <td>2020 Jan 9, 12:20</td>\n",
              "      <td>Toyota Isis ANM10 Power Steering Rack</td>\n",
              "      <td>250</td>\n",
              "      <td>Toyota Isis ANM10 Power Steering Rack\\nImporte...</td>\n",
              "      <td>Selangor</td>\n",
              "      <td>Toyota Isis ANM10 Power Steering Rack</td>\n",
              "      <td>Toyota Isis ANM10 Power Steering Rack\\nImporte...</td>\n",
              "      <td>2020-01</td>\n",
              "    </tr>\n",
              "  </tbody>\n",
              "</table>\n",
              "</div>"
            ],
            "text/plain": [
              "         LISTING DATE  ... LISTING DATE_month\n",
              "0  2020 Jan 10, 15:10  ...            2020-01\n",
              "1  2020 Jan 10, 12:00  ...            2020-01\n",
              "2  2020 Jan 10, 12:00  ...            2020-01\n",
              "3   2020 Jan 9, 19:35  ...            2020-01\n",
              "4   2020 Jan 9, 12:20  ...            2020-01\n",
              "\n",
              "[5 rows x 8 columns]"
            ]
          },
          "metadata": {
            "tags": []
          },
          "execution_count": 3
        }
      ]
    },
    {
      "cell_type": "markdown",
      "metadata": {
        "id": "LfwicZ3ae0Gn"
      },
      "source": [
        "## Removing Emoji <a name=\"removing-emoji\"></a>\n",
        "It's common to find graphical (👍, 🙏🏽) and textual emoji ( :), >=/) in online listing's description. While these may be helpful when it comes to sentiment analysis, it's not that helpful for our current use case."
      ]
    },
    {
      "cell_type": "code",
      "metadata": {
        "id": "5QwoFtSxe2eJ",
        "colab": {
          "base_uri": "https://localhost:8080/"
        },
        "outputId": "f375f64c-2e0d-485d-cb6c-f828ff9d2da5"
      },
      "source": [
        "emoticon_string = r\"\"\"\n",
        "    (?:\n",
        "      [<>]?\n",
        "      [:;=8]                     # eyes\n",
        "      [\\-o\\*\\']?                 # optional nose\n",
        "      [\\)\\]\\(\\[dDpP/\\:\\}\\{@\\|\\\\] # mouth      \n",
        "      |\n",
        "      [\\)\\]\\(\\[dDpP/\\:\\}\\{@\\|\\\\] # mouth\n",
        "      [\\-o\\*\\']?                 # optional nose\n",
        "      [:;=8]                     # eyes\n",
        "      [<>]?\n",
        "    )\"\"\"\n",
        "\n",
        "def give_emoji_free_text(text): \n",
        "  return emoji.get_emoji_regexp().sub(r'', text)    \n",
        "    \n",
        "target_col = ['LISTING TITLE_copy', 'LISTING DESCRIPTION_copy']\n",
        "for col in target_col:        \n",
        "  df[col] = [give_emoji_free_text(text) for text in df[col]]    # remove graphical emoji\n",
        "  df[col] = [re.sub(emoticon_string, '', text) for text in df[col]]   # remove textual emoji\n",
        "\n",
        "print('done')"
      ],
      "execution_count": 4,
      "outputs": [
        {
          "output_type": "stream",
          "text": [
            "done\n"
          ],
          "name": "stdout"
        }
      ]
    },
    {
      "cell_type": "markdown",
      "metadata": {
        "id": "7JIxQjDI6BwL"
      },
      "source": [
        "## Removing stopwords <a name=\"removing-stopwords\"></a>\n",
        "Removing common words such as \"and\", \"or\", \"is\", \"for\", and others because they do not add any meaning nor contribute to our information retrieval process.\n",
        "\n",
        "Doing so will help us to:-\n",
        "* Reduce dataset size and therefore the time to train our model\n",
        "* Help improve our model's performance as there are fewer and only meaningful tokens left."
      ]
    },
    {
      "cell_type": "code",
      "metadata": {
        "id": "Vw01Li3hotBF"
      },
      "source": [
        "def remove_tokens_on_match(doc, word_idx_to_del):\n",
        "  # Specify the Spacy attributes to keep\n",
        "  list_attr = ['LOWER', 'POS', 'ENT_TYPE', 'IS_ALPHA', 'DEP', 'LEMMA', 'IS_PUNCT', 'IS_DIGIT', 'IS_SPACE', 'IS_STOP']\n",
        "\n",
        "  np_array = doc.to_array(list_attr)\n",
        "  np_array = np.delete(np_array, word_idx_to_del, axis = 0)\n",
        "  doc2 = Doc(doc.vocab, words=[t.text for i, t in enumerate(doc) if i not in word_idx_to_del])\n",
        "  doc2.from_array(list_attr, np_array)\n",
        "  return doc2"
      ],
      "execution_count": 5,
      "outputs": []
    },
    {
      "cell_type": "code",
      "metadata": {
        "id": "d9dncLr-Aogt",
        "colab": {
          "base_uri": "https://localhost:8080/"
        },
        "outputId": "3857fbd8-68b5-4506-aed0-469dd5cb7d76"
      },
      "source": [
        "all_stopwords = nlp.Defaults.stop_words   # Retrieve default stopwords\n",
        "all_stopwords -= {'up', 'a', 'no'}        # Remove these from stopwords\n",
        "all_stopwords |= {'dan', 'untuk', 'utk'}  # Adding common malay stopwords\n",
        "\n",
        "counter = 0\n",
        "print('Print only 5 outputs for illustration purposes.')\n",
        "target_col = ['LISTING TITLE_copy', 'LISTING DESCRIPTION_copy']\n",
        "for col in target_col:\n",
        "  for idx, doc in enumerate(nlp.pipe(df[col])):\n",
        "    words_to_delete = []\n",
        "\n",
        "    # Find stopwords\n",
        "    for word in doc:\n",
        "      lexeme = nlp.vocab[word.text.lower()]\n",
        "      if lexeme.is_stop == True:\n",
        "        words_to_delete.append(word.i)\n",
        "\n",
        "        if counter < 5:\n",
        "          print('deleting:', word.text)\n",
        "          counter += 1\n",
        "        \n",
        "\n",
        "    # Delete stopwords\n",
        "    doc = remove_tokens_on_match(doc, words_to_delete)\n",
        "    df.loc[idx, col] = doc.text"
      ],
      "execution_count": 6,
      "outputs": [
        {
          "output_type": "stream",
          "text": [
            "Print only 5 outputs for illustration purposes.\n",
            "deleting: for\n",
            "deleting: utk\n",
            "deleting: Top\n",
            "deleting: for\n",
            "deleting: only\n"
          ],
          "name": "stdout"
        }
      ]
    },
    {
      "cell_type": "markdown",
      "metadata": {
        "id": "DqasmWZ-utF0"
      },
      "source": [
        "\n",
        "## Removing low-value words <a name=\"removing-low-value-words\"></a>\n",
        "I'll be removing words related to (i) \"**steering rack**\" and (ii) \"**good quality**\"\n",
        "\n",
        "(i) Since our source data are scraped from e-commerce platform under the \"steering rack\" category, the words \"steering\" and \"rack\" etc no longer carry any additional information.\n",
        "\n",
        "(ii) Sellers are incentivized to market their product as \"japan\", \"original\", \"genuine\", or \"new\" because it allows them to charge a premium. After doing some manual checking, I feel that the authenticity and validity of these claims can be better verified through their listing images. Therefore, I've decided not to use these keywords due to the inherent bias."
      ]
    },
    {
      "cell_type": "code",
      "metadata": {
        "id": "ve-rgfhlwnLh",
        "colab": {
          "base_uri": "https://localhost:8080/"
        },
        "outputId": "8eaa03b8-2a42-4c83-a994-24d80a0f18b2"
      },
      "source": [
        "strings_to_replace = {\n",
        "  # Removing \"steering rack\" related words\n",
        "  'power': '',\n",
        "  'steering': '',\n",
        "  'stereng': '',\n",
        "  'rack': '',\n",
        "  'pinion': '',\n",
        "  'eps': '',\n",
        "\n",
        "  # Removing \"good quality\" related words\n",
        "  'original': '',\n",
        "  'ori': '',\n",
        "  'oem': '',\n",
        "  'new': '',\n",
        "  'aftermarket': '',\n",
        "  'high quality': '',\n",
        "  'japan': ''     \n",
        "}\n",
        "\n",
        "target_col = ['LISTING TITLE_copy', 'LISTING DESCRIPTION_copy']\n",
        "for col in target_col:\n",
        "  for idx, title in enumerate(df[col]):\n",
        "    title_array = [strings_to_replace.get(word, word) for word in title.lower().split()]\n",
        "    title_cleaned = ' '.join(list(filter(None, title_array)))\n",
        "    df.loc[idx, col] = title_cleaned\n",
        "\n",
        "print('done')"
      ],
      "execution_count": 7,
      "outputs": [
        {
          "output_type": "stream",
          "text": [
            "done\n"
          ],
          "name": "stdout"
        }
      ]
    },
    {
      "cell_type": "markdown",
      "metadata": {
        "id": "LHc-7DIVtnk3"
      },
      "source": [
        "## Replacing special characters <a name=\"replacing-special-characters\"></a>\n",
        "In the description, I noticed there are special characters such as \"**2006â€“2014**\" when it should have been \"**2006-2014**\". It turns out that these are just special characters that were improperly encoded for utf-8. I need to replace them so that our matcher can work properly."
      ]
    },
    {
      "cell_type": "code",
      "metadata": {
        "colab": {
          "base_uri": "https://localhost:8080/"
        },
        "id": "qbKd8a93uQhm",
        "outputId": "8c19fec0-ea66-49a6-d7e0-e919988528d4"
      },
      "source": [
        "special_characters = {\n",
        "    'â€¦': '…',\n",
        "    'â€“': '–',\n",
        "    'â€™': '’',\n",
        "    'â€œ': '“'\n",
        "}\n",
        "\n",
        "target_col = ['LISTING TITLE_copy', 'LISTING DESCRIPTION_copy']\n",
        "for col in target_col:\n",
        "  for idx, title in enumerate(df[col]):\n",
        "    title_array = [special_characters.get(word, word) for word in title.lower().split()]\n",
        "    title_cleaned = ' '.join(list(filter(None, title_array)))\n",
        "    df.loc[idx, col] = title_cleaned\n",
        "\n",
        "print('done')    "
      ],
      "execution_count": 8,
      "outputs": [
        {
          "output_type": "stream",
          "text": [
            "done\n"
          ],
          "name": "stdout"
        }
      ]
    },
    {
      "cell_type": "markdown",
      "metadata": {
        "id": "W2NejMc_3qeW"
      },
      "source": [
        "## Correcting spelling mistakes <a name=\"correcting-spelling-mistakes\"></a>\n",
        "By using the Damerau-Levenshtein distance algorithm, I can check the how similar are the words in the listing against a \"dictionary\" of words. In this case, it would be a dictionary of car brands that I have prepared.\n",
        "\n",
        "Damerau states that 80% of spellings errors are 1 edit distance away and virtually all would be within 2 edit distance. But since I'm only doing fuzzy string comparison without any Natural Language Processing NER context, it may mistakenly replace actual words such as:\n",
        "* \"FOR\" as \"FORD\"\n",
        "* \"NAMA\" as \"NAZA\" \n",
        "\n",
        "I've decided to normalize the similarity score and place a rather conservative threshold of < 0.25 so that only words above 5 characters will be considered. It's rare to find language words that are 5 characters and above that have similar spelling to car brands.\n",
        "\n"
      ]
    },
    {
      "cell_type": "code",
      "metadata": {
        "colab": {
          "base_uri": "https://localhost:8080/",
          "height": 206
        },
        "id": "cXIVgFwk1vuf",
        "outputId": "e336db71-c57a-440f-fbd4-5482a17e0822"
      },
      "source": [
        "carBrand_clean = pd.read_csv('bucketingCarModel.csv')\n",
        "carBrand_clean.head()"
      ],
      "execution_count": 9,
      "outputs": [
        {
          "output_type": "execute_result",
          "data": {
            "text/html": [
              "<div>\n",
              "<style scoped>\n",
              "    .dataframe tbody tr th:only-of-type {\n",
              "        vertical-align: middle;\n",
              "    }\n",
              "\n",
              "    .dataframe tbody tr th {\n",
              "        vertical-align: top;\n",
              "    }\n",
              "\n",
              "    .dataframe thead th {\n",
              "        text-align: right;\n",
              "    }\n",
              "</style>\n",
              "<table border=\"1\" class=\"dataframe\">\n",
              "  <thead>\n",
              "    <tr style=\"text-align: right;\">\n",
              "      <th></th>\n",
              "      <th>carBrand</th>\n",
              "      <th>carModel</th>\n",
              "    </tr>\n",
              "  </thead>\n",
              "  <tbody>\n",
              "    <tr>\n",
              "      <th>0</th>\n",
              "      <td>CHERY</td>\n",
              "      <td>EASTAR</td>\n",
              "    </tr>\n",
              "    <tr>\n",
              "      <th>1</th>\n",
              "      <td>CHERY</td>\n",
              "      <td>KARRY</td>\n",
              "    </tr>\n",
              "    <tr>\n",
              "      <th>2</th>\n",
              "      <td>CHERY</td>\n",
              "      <td>TIGGO</td>\n",
              "    </tr>\n",
              "    <tr>\n",
              "      <th>3</th>\n",
              "      <td>CHEVROLET</td>\n",
              "      <td>AVEO</td>\n",
              "    </tr>\n",
              "    <tr>\n",
              "      <th>4</th>\n",
              "      <td>CHEVROLET</td>\n",
              "      <td>CAMARO</td>\n",
              "    </tr>\n",
              "  </tbody>\n",
              "</table>\n",
              "</div>"
            ],
            "text/plain": [
              "    carBrand carModel\n",
              "0      CHERY   EASTAR\n",
              "1      CHERY    KARRY\n",
              "2      CHERY    TIGGO\n",
              "3  CHEVROLET     AVEO\n",
              "4  CHEVROLET   CAMARO"
            ]
          },
          "metadata": {
            "tags": []
          },
          "execution_count": 9
        }
      ]
    },
    {
      "cell_type": "code",
      "metadata": {
        "id": "emrUla_a4GtO",
        "colab": {
          "base_uri": "https://localhost:8080/"
        },
        "outputId": "bbee4587-b493-4907-a652-2cbf1956197b"
      },
      "source": [
        "target_col = ['LISTING TITLE_copy']\n",
        "for col in target_col:\n",
        "  for idx, doc in enumerate(nlp.pipe(df[col])):\n",
        "    for word in doc:\n",
        "      dissimilarity_score = normalized_damerau_levenshtein_distance_seqs(word.text.upper(), carBrand_clean['carBrand'].unique())\n",
        "      if 0 < min(dissimilarity_score) < 0.25:\n",
        "        correct_word_idx = np.argmin(dissimilarity_score)\n",
        "        correct_word = carBrand_clean['carBrand'].unique()[correct_word_idx]\n",
        "\n",
        "        df.loc[idx, col] = df.loc[idx, col].replace(word.text, correct_word)\n",
        "        print('from:', word.text.upper(), '\\t to:', correct_word)"
      ],
      "execution_count": 10,
      "outputs": [
        {
          "output_type": "stream",
          "text": [
            "from: TOYOTAT \t to: TOYOTA\n",
            "from: PRTON \t to: PROTON\n",
            "from: PERODUO \t to: PERODUA\n",
            "from: PERODUO \t to: PERODUA\n",
            "from: PERODUO \t to: PERODUA\n"
          ],
          "name": "stdout"
        }
      ]
    },
    {
      "cell_type": "markdown",
      "metadata": {
        "id": "dLvsI4EyUNGD"
      },
      "source": [
        "# Bucketing the Data <a name=\"bucketing-the-data\"></a>\n",
        "\n",
        "With the data pre-processed, we can now label them to their respective car brands and models, starting with the former.\n"
      ]
    },
    {
      "cell_type": "markdown",
      "metadata": {
        "id": "FHp0AXXutnXR"
      },
      "source": [
        "## Retrieving car brands <a name=\"retrieving-car-brands\"></a>\n",
        "I'm using a rule-based matching approach here to get the car brands by matching a list of car brands against the listing title.\n",
        "\n",
        "The list of car brands would include both the official brand name and some colloquial / abbrieviated variation. For example:-\n",
        "* Volkswagen -> vw\n",
        "* Mercedes Benz -> Mercedes\n",
        "\n",
        "Building and maintaining this car brand list is feasible because there are only a handful of vehicle makers with little to no new competitors.\n",
        "\n",
        "****Note: I also retrieved aditional information such as the year model and engine CC because I thought these would be interesting features to consider for future improvement.**"
      ]
    },
    {
      "cell_type": "code",
      "metadata": {
        "id": "djjUdPRt9Qo3"
      },
      "source": [
        "# Rule-based matching\n",
        "def matcher_func(df, pattern_name, pattern, target_col, storeMatches=False):\n",
        "\n",
        "  counter = 0\n",
        "  print('\\nPrint only 5 outputs for illustration purposes.')\n",
        "\n",
        "  matcher = Matcher(nlp.vocab)\n",
        "  matcher.add(pattern_name, pattern)\n",
        "\n",
        "  matches = []\n",
        "  non_matches = []\n",
        "\n",
        "  if pattern_name not in df.columns:\n",
        "    df[pattern_name] = ''\n",
        "\n",
        "  for idx, doc in enumerate(nlp.pipe(df[target_col])):\n",
        "    matches = matcher(doc)\n",
        "\n",
        "    if matches:\n",
        "      for match in matches:\n",
        "        # removing unnecessary strings from title.\n",
        "        target_word = doc[match[1]:match[2]].text\n",
        "        df.loc[idx, target_col] = df.loc[idx, target_col].lower().replace(target_word.lower(), '')    \n",
        "        df.loc[idx, target_col] = ' '.join(df.loc[idx, target_col].split())\n",
        "\n",
        "        # add keyword to column\n",
        "        if storeMatches == True:\n",
        "          df.loc[idx, pattern_name] += target_word.upper() + ','\n",
        "\n",
        "        # display matches\n",
        "        string_id = nlp.vocab.strings[match[0]]\n",
        "\n",
        "        if counter < 5:\n",
        "          print(string_id, '\\t start_idx:', match[1], '\\t end_idx:', match[2], '\\t found:', target_word)\n",
        "          counter += 1\n",
        "\n",
        "    if not matches:\n",
        "      non_matches.append(doc)    \n",
        "\n",
        "  return matches, non_matches"
      ],
      "execution_count": 11,
      "outputs": []
    },
    {
      "cell_type": "code",
      "metadata": {
        "id": "HnmIRTGO-zIS",
        "colab": {
          "base_uri": "https://localhost:8080/"
        },
        "outputId": "6006e97d-d309-4ee1-9df5-1666b814aa21"
      },
      "source": [
        "target_col = ['LISTING TITLE_copy', 'LISTING DESCRIPTION_copy']\n",
        "\n",
        "# Matching car brands\n",
        "carBrand_pattern_1 = [{'LOWER': {'IN': ['alfa', 'aston', 'great', 'land', 'range', 'merc', 'mer', 'mercedes', 'm', 'mini', 'mg', 'rolls', 'roll']}},\n",
        "                      {'IS_PUNCT': True, 'OP': '?'},\n",
        "                      {'LOWER': {'IN': ['romeo', 'martin', 'wall', 'rover', 'benz', 'ben', 'cooper', 'royce']}}]\n",
        "\n",
        "carBrand_pattern_2 = [{'LOWER': {'IN': ['alfa', 'audi', 'bmw', 'bentley', 'chana', 'chery', 'chevrolet', 'chrysler',\n",
        "                                      'citroen', 'daihatsu', 'ferrari', 'fiat', 'ford', 'foton', 'grw', 'hicom', 'honda',\n",
        "                                      'hummer', 'hyundai', 'inokom', 'isuzu', 'iveco', 'jaguar', 'jeep', 'jinbei', 'joylong', 'kia',\n",
        "                                      'lamborghini', 'lambo', 'lexus', 'maserati', 'mazda', 'merc', 'mercedes', 'benz', 'mini', 'mitsubishi', 'mitsuoka', \n",
        "                                      'naza', 'nissan', 'opel', 'perodua', 'peugeot',\n",
        "                                      'porsche', 'proton', 'renault', 'saab', 'skoda', 'ssangyong', 'subaru',\n",
        "                                      'suzuki', 'toyota', 'volvo', 'volkswagen', 'vw', 'westar']}}]  \n",
        "\n",
        "for col in target_col:\n",
        "  matches, non_matches = matcher_func(df, 'carBrand_recog', [carBrand_pattern_1], col, storeMatches=True)\n",
        "  matches, non_matches = matcher_func(df, 'carBrand_recog', [carBrand_pattern_2], col, storeMatches=True)\n",
        "\n",
        "# Flagging irrelevant item type\n",
        "# Our data is scraped from \"steering rack\" category of e-commerce site but there are non-steering rack listings.\n",
        "irrelevantItemType_pattern_1 = [{'LOWER': {'IN': ['steering', 'wiring', 'cross', 'sub', 'lower']}},\n",
        "                                {'LOWER': {'IN': ['hose', 'pump', 'harness', 'member', 'frame', 'arm']}}]\n",
        "irrelevantItemType_pattern_2 = [{'LOWER': {'IN': ['ecu', 'absorber', 'bush', 'cover', 'sensor', 'subframe', 'alternator', 'pump', 'meter']}}]\n",
        "\n",
        "matches, non_matches = matcher_func(df, 'irrelevantItemType_recog', [irrelevantItemType_pattern_1, irrelevantItemType_pattern_2], 'LISTING TITLE_copy', storeMatches=True)\n",
        "\n",
        "# Retrieve years\n",
        "doubleYear_pattern = [{'ORTH': \"'\", 'OP': '?'},\n",
        "                      {'LOWER': {'REGEX': '(\\'?)(\\d{2}|\\d{4})(\\'?)'}},\n",
        "                      {'ORTH': \"'\", 'OP': '?'},\n",
        "                      {'LOWER': {'IN': ['-', '~', 'to']}},\n",
        "                      {'ORTH': \"'\", 'OP': '?'},\n",
        "                      {'LOWER': {'REGEX': '(\\'?)(\\d{2}|\\d{4})(\\'?)'}},\n",
        "                      {'ORTH': \"'\", 'OP': '?'}]\n",
        "\n",
        "singleYear_pattern_1 = [{'ORTH': \"'\", 'OP': '?'},\n",
        "                        {'LOWER': {'REGEX': '(\\'?)(\\d{2}|\\d{4})(\\'?)([-|~|(to)])(present|year|now|up)'}}]\n",
        "\n",
        "singleYear_pattern_2 = [{'ORTH': \"'\", 'OP': '?'},\n",
        "                        {'LOWER': {'REGEX': '^(\\d{2}|\\d{4})$'}},\n",
        "                        {'ORTH': \"'\", 'OP': '?'}]\n",
        "\n",
        "matches, non_matches = matcher_func(df, 'year_recog', [doubleYear_pattern], 'LISTING TITLE_copy', storeMatches=True)\n",
        "matches, non_matches = matcher_func(df, 'year_recog', [singleYear_pattern_1, singleYear_pattern_2], 'LISTING TITLE_copy', storeMatches=True)\n",
        "\n",
        "# Retrieve engine CC\n",
        "cc_pattern = [{'LOWER': {'REGEX': '^\\d\\.\\d$'}}]                               \n",
        "\n",
        "matches, non_matches = matcher_func(df, 'cc_recog', [cc_pattern], 'LISTING TITLE_copy', storeMatches=True)"
      ],
      "execution_count": 12,
      "outputs": [
        {
          "output_type": "stream",
          "text": [
            "\n",
            "Print only 5 outputs for illustration purposes.\n",
            "carBrand_recog \t start_idx: 0 \t end_idx: 2 \t found: mini cooper\n",
            "carBrand_recog \t start_idx: 0 \t end_idx: 2 \t found: mercedes benz\n",
            "carBrand_recog \t start_idx: 0 \t end_idx: 2 \t found: mini cooper\n",
            "carBrand_recog \t start_idx: 0 \t end_idx: 3 \t found: mercedes - benz\n",
            "carBrand_recog \t start_idx: 0 \t end_idx: 3 \t found: mercedes - benz\n",
            "\n",
            "Print only 5 outputs for illustration purposes.\n",
            "carBrand_recog \t start_idx: 0 \t end_idx: 1 \t found: honda\n",
            "carBrand_recog \t start_idx: 0 \t end_idx: 1 \t found: toyota\n",
            "carBrand_recog \t start_idx: 0 \t end_idx: 1 \t found: toyota\n",
            "carBrand_recog \t start_idx: 0 \t end_idx: 1 \t found: toyota\n",
            "carBrand_recog \t start_idx: 0 \t end_idx: 1 \t found: bmw\n",
            "\n",
            "Print only 5 outputs for illustration purposes.\n",
            "carBrand_recog \t start_idx: 7 \t end_idx: 9 \t found: mercedes benz\n",
            "carBrand_recog \t start_idx: 7 \t end_idx: 9 \t found: mercedes benz\n",
            "carBrand_recog \t start_idx: 7 \t end_idx: 9 \t found: mercedes benz\n",
            "carBrand_recog \t start_idx: 0 \t end_idx: 2 \t found: mini cooper\n",
            "carBrand_recog \t start_idx: 0 \t end_idx: 3 \t found: mercedes - benz\n",
            "\n",
            "Print only 5 outputs for illustration purposes.\n",
            "carBrand_recog \t start_idx: 1 \t end_idx: 2 \t found: honda\n",
            "carBrand_recog \t start_idx: 0 \t end_idx: 1 \t found: toyota\n",
            "carBrand_recog \t start_idx: 0 \t end_idx: 1 \t found: toyota\n",
            "carBrand_recog \t start_idx: 0 \t end_idx: 1 \t found: toyota\n",
            "carBrand_recog \t start_idx: 0 \t end_idx: 1 \t found: bmw\n",
            "\n",
            "Print only 5 outputs for illustration purposes.\n",
            "irrelevantItemType_recog \t start_idx: 4 \t end_idx: 5 \t found: ecu\n",
            "irrelevantItemType_recog \t start_idx: 3 \t end_idx: 4 \t found: bush\n",
            "irrelevantItemType_recog \t start_idx: 1 \t end_idx: 3 \t found: cross member\n",
            "irrelevantItemType_recog \t start_idx: 3 \t end_idx: 5 \t found: sub frame\n",
            "irrelevantItemType_recog \t start_idx: 2 \t end_idx: 4 \t found: sub frame\n",
            "\n",
            "Print only 5 outputs for illustration purposes.\n",
            "year_recog \t start_idx: 5 \t end_idx: 8 \t found: 93 - 97\n",
            "year_recog \t start_idx: 2 \t end_idx: 5 \t found: 04 - 10\n",
            "year_recog \t start_idx: 1 \t end_idx: 4 \t found: 98 - 06\n",
            "year_recog \t start_idx: 3 \t end_idx: 6 \t found: 07 - 12\n",
            "year_recog \t start_idx: 5 \t end_idx: 8 \t found: 10 - 16\n",
            "\n",
            "Print only 5 outputs for illustration purposes.\n",
            "year_recog \t start_idx: 3 \t end_idx: 4 \t found: 08\n",
            "year_recog \t start_idx: 1 \t end_idx: 2 \t found: 2017\n",
            "year_recog \t start_idx: 2 \t end_idx: 3 \t found: 10\n",
            "year_recog \t start_idx: 1 \t end_idx: 2 \t found: 14-present\n",
            "year_recog \t start_idx: 1 \t end_idx: 2 \t found: 2017\n",
            "\n",
            "Print only 5 outputs for illustration purposes.\n",
            "cc_recog \t start_idx: 1 \t end_idx: 2 \t found: 1.8\n",
            "cc_recog \t start_idx: 1 \t end_idx: 2 \t found: 1.5\n",
            "cc_recog \t start_idx: 5 \t end_idx: 6 \t found: 1.0\n",
            "cc_recog \t start_idx: 1 \t end_idx: 2 \t found: 2.0\n",
            "cc_recog \t start_idx: 1 \t end_idx: 2 \t found: 2.0\n"
          ],
          "name": "stdout"
        }
      ]
    },
    {
      "cell_type": "code",
      "metadata": {
        "id": "ejxXDidthJl5"
      },
      "source": [
        "# Punctuation are helpful when trying to identify \"Year\" tokens.\n",
        "# Since we've already retrieved the \"Year\", we will be remove these unnecessary punctuation.\n",
        "def remove_punctuation(series):\n",
        "  no_punct=[''.join([alphabet for alphabet in words if alphabet not in string.punctuation]) for words in series]\n",
        "  return no_punct\n",
        "\n",
        "df['LISTING TITLE_copy'] = remove_punctuation(df['LISTING TITLE_copy'])\n",
        "df['LISTING DESCRIPTION_copy'] = remove_punctuation(df['LISTING DESCRIPTION_copy'])"
      ],
      "execution_count": 13,
      "outputs": []
    },
    {
      "cell_type": "markdown",
      "metadata": {
        "id": "yxZn84-vrr_E"
      },
      "source": [
        "## Inferring car brands <a name=\"inferring-car-brands\"></a>\n",
        "There are cases the online listing's title only includes the car model but did not state the car brand explicitly. For example, the word \"TOYOTA\" and \"HONDA\" are missing from:-\n",
        "*   Estima Steering Rack ACR50 Vellfire 2W -> Toyota Estima Steering ...\n",
        "*   integra dc2 db8 b18c power steering rack -> Honda integra dc2 ...\n",
        "\n",
        "Since car model names _are usually_ unique within car brand (e.g: A Vios always belong to the Toyota brand), we can use the car model to infer the car brands.\n",
        "\n",
        "I've only included car models that have >= 4 alphabets and is non-numeric to prioritize precision over recall. The reasoning is that car model such as (i) Perodua \"**Alza**\", (ii) Toyota \"**Alphard**\" and (iii) Daihatsu \"**Hijet**\" is almost guaranteed to be unique identifiers across all car brands as compared to the likes of (i) Alfa Romeo \"**147**\", (ii) Peugeot \"**5008**\" and (iii) Mazda \"**CX5**\"."
      ]
    },
    {
      "cell_type": "code",
      "metadata": {
        "colab": {
          "base_uri": "https://localhost:8080/",
          "height": 206
        },
        "id": "LyIf0ZlS2DOP",
        "outputId": "370553ca-af5e-4890-a166-286b7b683d38"
      },
      "source": [
        "df_bucket = pd.read_csv('bucketingCarModel.csv')\n",
        "df_bucket.head()"
      ],
      "execution_count": 14,
      "outputs": [
        {
          "output_type": "execute_result",
          "data": {
            "text/html": [
              "<div>\n",
              "<style scoped>\n",
              "    .dataframe tbody tr th:only-of-type {\n",
              "        vertical-align: middle;\n",
              "    }\n",
              "\n",
              "    .dataframe tbody tr th {\n",
              "        vertical-align: top;\n",
              "    }\n",
              "\n",
              "    .dataframe thead th {\n",
              "        text-align: right;\n",
              "    }\n",
              "</style>\n",
              "<table border=\"1\" class=\"dataframe\">\n",
              "  <thead>\n",
              "    <tr style=\"text-align: right;\">\n",
              "      <th></th>\n",
              "      <th>carBrand</th>\n",
              "      <th>carModel</th>\n",
              "    </tr>\n",
              "  </thead>\n",
              "  <tbody>\n",
              "    <tr>\n",
              "      <th>0</th>\n",
              "      <td>CHERY</td>\n",
              "      <td>EASTAR</td>\n",
              "    </tr>\n",
              "    <tr>\n",
              "      <th>1</th>\n",
              "      <td>CHERY</td>\n",
              "      <td>KARRY</td>\n",
              "    </tr>\n",
              "    <tr>\n",
              "      <th>2</th>\n",
              "      <td>CHERY</td>\n",
              "      <td>TIGGO</td>\n",
              "    </tr>\n",
              "    <tr>\n",
              "      <th>3</th>\n",
              "      <td>CHEVROLET</td>\n",
              "      <td>AVEO</td>\n",
              "    </tr>\n",
              "    <tr>\n",
              "      <th>4</th>\n",
              "      <td>CHEVROLET</td>\n",
              "      <td>CAMARO</td>\n",
              "    </tr>\n",
              "  </tbody>\n",
              "</table>\n",
              "</div>"
            ],
            "text/plain": [
              "    carBrand carModel\n",
              "0      CHERY   EASTAR\n",
              "1      CHERY    KARRY\n",
              "2      CHERY    TIGGO\n",
              "3  CHEVROLET     AVEO\n",
              "4  CHEVROLET   CAMARO"
            ]
          },
          "metadata": {
            "tags": []
          },
          "execution_count": 14
        }
      ]
    },
    {
      "cell_type": "code",
      "metadata": {
        "colab": {
          "base_uri": "https://localhost:8080/"
        },
        "id": "Q4WWnvmXcI44",
        "outputId": "67a7054c-75d4-43eb-fd41-b20fa830a272"
      },
      "source": [
        "df['carBrand_recog'] = df['carBrand_recog'].fillna('')\n",
        "counter = 0\n",
        "print('Print only 5 outputs for illustration purposes.')\n",
        "\n",
        "for idx, row in df[df['carBrand_recog'] == ''].iterrows():\n",
        "  # Build a dict of car model and their associated car model\n",
        "  bucketing_dict = {}\n",
        "  for idx2, row2 in df_bucket.iterrows():\n",
        "    bucketing_dict[row2['carModel']] = row2['carBrand']\n",
        "\n",
        "  # Inferring car brand based on car model\n",
        "  target_col = ['LISTING TITLE_copy', 'LISTING DESCRIPTION_copy']\n",
        "  for col in target_col:\n",
        "    for key in bucketing_dict.keys():\n",
        "      if key.lower() in [word.lower() for word in row[col].split()]:\n",
        "        df.loc[idx, 'carBrand_recog'] = bucketing_dict[key]\n",
        "\n",
        "        if counter < 5:\n",
        "          print('found:', key, '\\t bucket to:', bucketing_dict[key])\n",
        "          counter += 1"
      ],
      "execution_count": 15,
      "outputs": [
        {
          "output_type": "stream",
          "text": [
            "Print only 5 outputs for illustration purposes.\n",
            "found: ESTIMA \t bucket to: TOYOTA\n",
            "found: HARRIER \t bucket to: TOYOTA\n",
            "found: ALPHARD \t bucket to: TOYOTA\n",
            "found: ESTIMA \t bucket to: TOYOTA\n",
            "found: HARRIER \t bucket to: TOYOTA\n"
          ],
          "name": "stdout"
        }
      ]
    },
    {
      "cell_type": "markdown",
      "metadata": {
        "id": "M1Vli5xw6LOh"
      },
      "source": [
        "## Standardizing car brands <a name=\"standardizing-car-brands\"></a>\n",
        "Once we retrieved the car brands with our SpaCy matcher function, we need to clean up some of the colloquial / non-standard names into a standardized format. It is possible to automate this step with fuzzy string matching but it can be challenging to detect cases like:-\n",
        "* vw -> Volkswagen\n",
        "* M/Benz -> Mercedes Benz\n",
        "\n",
        "Therefore, minimal human intervention may be required for this step."
      ]
    },
    {
      "cell_type": "code",
      "metadata": {
        "colab": {
          "base_uri": "https://localhost:8080/"
        },
        "id": "0o6gN54kQi2b",
        "outputId": "fb81b514-3c41-4214-8ed2-5c1e3402c435"
      },
      "source": [
        "# Eyeball potential names that needs to be replaced. Add them to the dict in the next code block.\n",
        "sorted(df['carBrand_recog'].unique())"
      ],
      "execution_count": 16,
      "outputs": [
        {
          "output_type": "execute_result",
          "data": {
            "text/plain": [
              "['',\n",
              " 'AUDI,AUDI,',\n",
              " 'AUDI,PORSCHE,',\n",
              " 'BENTLEY,BENTLEY,',\n",
              " 'BMW,',\n",
              " 'BMW,BMW,',\n",
              " 'BMW,BMW,BMW,',\n",
              " 'BMW,BMW,BMW,BMW,',\n",
              " 'CHERY,',\n",
              " 'CHERY,CHERY,CHERY,',\n",
              " 'CHEVROLET,',\n",
              " 'CITROEN,CITROEN,',\n",
              " 'DAIHATSU,DAIHATSU,',\n",
              " 'DAIHATSU,PERODUA,DAIHATSU,PERODUA,',\n",
              " 'FORD,',\n",
              " 'FORD,FORD,',\n",
              " 'FORD,FORD,FORD,',\n",
              " 'HICOM,',\n",
              " 'HONDA',\n",
              " 'HONDA,',\n",
              " 'HONDA,HONDA,',\n",
              " 'HONDA,HONDA,HONDA,',\n",
              " 'HONDA,HONDA,HONDA,HONDA,',\n",
              " 'HONDA,HONDA,HONDA,HONDA,HONDA,HONDA,HONDA,HONDA,HONDA,HONDA,HONDA,HONDA,HONDA,HONDA,HONDA,HONDA,HONDA,HONDA,HONDA,HONDA,HONDA,HONDA,HONDA,HONDA,HONDA,HONDA,HONDA,',\n",
              " 'HYUNDAI,',\n",
              " 'HYUNDAI,HYUNDAI,HYUNDAI,',\n",
              " 'ISUZU,',\n",
              " 'KIA',\n",
              " 'KIA,',\n",
              " 'KIA,KIA,KIA,NAZA,NAZA,',\n",
              " 'LEXUS,',\n",
              " 'LEXUS,LEXUS,',\n",
              " 'LEXUS,LEXUS,TOYOTA,',\n",
              " 'M / BENZ,',\n",
              " 'MAZDA,',\n",
              " 'MAZDA,FORD,MAZDA,FORD,MAZDA,FORD,',\n",
              " 'MAZDA,MAZDA,',\n",
              " 'MAZDA,MAZDA,MAZDA,MAZDA,MAZDA,MAZDA,MAZDA,MAZDA,',\n",
              " 'MERCEDES - BENZ,MERCEDES - BENZ,',\n",
              " 'MERCEDES BENZ,',\n",
              " 'MERCEDES,',\n",
              " 'MERCEDES,MERCEDES BENZ,',\n",
              " 'MERCEDES,MERCEDES,',\n",
              " 'MINI COOPER,',\n",
              " 'MINI COOPER,MINI COOPER,',\n",
              " 'MINI,MINI,',\n",
              " 'MITSUBISHI',\n",
              " 'MITSUBISHI,',\n",
              " 'MITSUBISHI,MITSUBISHI,',\n",
              " 'NAZA,',\n",
              " 'NAZA,KIA,',\n",
              " 'NAZA,NAZA,NAZA,',\n",
              " 'NISSAN',\n",
              " 'NISSAN,',\n",
              " 'NISSAN,NISSAN,',\n",
              " 'NISSAN,NISSAN,DAIHATSU,',\n",
              " 'NISSAN,NISSAN,NISSAN,',\n",
              " 'PERODUA',\n",
              " 'PERODUA,',\n",
              " 'PERODUA,DAIHATSU,',\n",
              " 'PERODUA,PERODUA,',\n",
              " 'PERODUA,PERODUA,PERODUA,',\n",
              " 'PEUGEOT,PEUGEOT,',\n",
              " 'PEUGEOT,PEUGEOT,PEUGEOT,',\n",
              " 'PORSCHE,AUDI,PORSCHE,AUDI,',\n",
              " 'PORSCHE,AUDI,PORSCHE,AUDI,PORSCHE,AUDI,PORSCHE,AUDI,',\n",
              " 'PORSCHE,PORSCHE,',\n",
              " 'PROTON',\n",
              " 'PROTON,',\n",
              " 'PROTON,PERODUA,TOYOTA,HONDA,MITSUBISHI,NISSAN,HYUNDAI,MAZDA,ISUZU,',\n",
              " 'PROTON,PROTON,',\n",
              " 'PROTON,PROTON,HICOM,',\n",
              " 'PROTON,PROTON,PROTON,',\n",
              " 'PROTON,PROTON,PROTON,PERODUA,',\n",
              " 'PROTON,PROTON,PROTON,PROTON,',\n",
              " 'PROTON,PROTON,PROTON,PROTON,PROTON,',\n",
              " 'RANGE ROVER,',\n",
              " 'RENAULT,RENAULT,RENAULT,LAMBORGHINI,PORSCHE,',\n",
              " 'SUBARU,',\n",
              " 'SUBARU,SUBARU,',\n",
              " 'SUZUKI,',\n",
              " 'SUZUKI,SUZUKI,',\n",
              " 'SUZUKI,SUZUKI,SUZUKI,',\n",
              " 'TOYOTA',\n",
              " 'TOYOTA,',\n",
              " 'TOYOTA,LEXUS,TOYOTA,LEXUS,',\n",
              " 'TOYOTA,TOYOTA,',\n",
              " 'TOYOTA,TOYOTA,LEXUS,',\n",
              " 'TOYOTA,TOYOTA,TOYOTA,',\n",
              " 'TOYOTA,TOYOTA,TOYOTA,TOYOTA,',\n",
              " 'TOYOTA,TOYOTA,TOYOTA,TOYOTA,TOYOTA,TOYOTA,TOYOTA,TOYOTA,',\n",
              " 'VOLKSWAGEN',\n",
              " 'VOLKSWAGEN,',\n",
              " 'VOLKSWAGEN,VOLKSWAGEN,',\n",
              " 'VOLKSWAGEN,VW,',\n",
              " 'VOLKSWAGEN,VW,VOLKSWAGEN,',\n",
              " 'VOLVO,',\n",
              " 'VOLVO,VOLVO,',\n",
              " 'VOLVO,VOLVO,VOLVO,',\n",
              " 'VW,VW,']"
            ]
          },
          "metadata": {
            "tags": []
          },
          "execution_count": 16
        }
      ]
    },
    {
      "cell_type": "code",
      "metadata": {
        "id": "SOa8I7RS6Iy3"
      },
      "source": [
        "strings_to_replace = {\n",
        "    'MERCEDES': 'MERCEDES BENZ',\n",
        "    'M/BENZ': 'MERCEDES BENZ',\n",
        "    'M / BENZ': 'MERCEDES BENZ',\n",
        "    'MERCEDES - BEN': 'MERCEDES BENZ',\n",
        "    'MERCEDES - BENZ': 'MERCEDES BENZ',\n",
        "    'VW': 'VOLKSWAGEN'\n",
        "}\n",
        "\n",
        "# Replacing abbreviated car brands with standard spellings\n",
        "df['carBrand_recog'] = [[strings_to_replace.get(brand,brand) for brand in brands.split(',')] for brands in df['carBrand_recog']]\n",
        "\n",
        "# Removing duplicate car brands\n",
        "df['carBrand_recog'] = [','.join(list(filter(None, set(brands)))) for brands in df['carBrand_recog']]"
      ],
      "execution_count": 17,
      "outputs": []
    },
    {
      "cell_type": "markdown",
      "metadata": {
        "id": "Ey4siOGeTPmT"
      },
      "source": [
        "## Associating listings to car model <a name=\"associating-listings-to-car-model\"></a>\n",
        "\n",
        "Finally, all car models are given a car model code to uniquely identify the model. For example, Toyota Vios **NCP42** refers to the first generation Toyota Vios, made within year 2003 to 2007.\n",
        "\n",
        "These car model code are unique within car brands. If Toyota Vios is labelled NCP42, we won't see a Toyota Estima NCP42. But this is not necessarily the case across different car brands. Hence, it's important that we only match the car model code after we have determined its car brand."
      ]
    },
    {
      "cell_type": "code",
      "metadata": {
        "colab": {
          "base_uri": "https://localhost:8080/",
          "height": 206
        },
        "id": "dHOw2dAI2Ihj",
        "outputId": "8cedf85a-23fe-4390-b286-f93d58f164ed"
      },
      "source": [
        "df_bucket = pd.read_csv('bucketingCarModelCode.csv')\n",
        "df_bucket.head()"
      ],
      "execution_count": 18,
      "outputs": [
        {
          "output_type": "execute_result",
          "data": {
            "text/html": [
              "<div>\n",
              "<style scoped>\n",
              "    .dataframe tbody tr th:only-of-type {\n",
              "        vertical-align: middle;\n",
              "    }\n",
              "\n",
              "    .dataframe tbody tr th {\n",
              "        vertical-align: top;\n",
              "    }\n",
              "\n",
              "    .dataframe thead th {\n",
              "        text-align: right;\n",
              "    }\n",
              "</style>\n",
              "<table border=\"1\" class=\"dataframe\">\n",
              "  <thead>\n",
              "    <tr style=\"text-align: right;\">\n",
              "      <th></th>\n",
              "      <th>carBrand</th>\n",
              "      <th>carModelCode</th>\n",
              "      <th>backendPrimaryKey</th>\n",
              "    </tr>\n",
              "  </thead>\n",
              "  <tbody>\n",
              "    <tr>\n",
              "      <th>0</th>\n",
              "      <td>ALFA ROMEO</td>\n",
              "      <td>145</td>\n",
              "      <td>PK00001</td>\n",
              "    </tr>\n",
              "    <tr>\n",
              "      <th>1</th>\n",
              "      <td>ALFA ROMEO</td>\n",
              "      <td>146</td>\n",
              "      <td>PK00002</td>\n",
              "    </tr>\n",
              "    <tr>\n",
              "      <th>2</th>\n",
              "      <td>ALFA ROMEO</td>\n",
              "      <td>147</td>\n",
              "      <td>PK00003</td>\n",
              "    </tr>\n",
              "    <tr>\n",
              "      <th>3</th>\n",
              "      <td>ALFA ROMEO</td>\n",
              "      <td>155</td>\n",
              "      <td>PK00004</td>\n",
              "    </tr>\n",
              "    <tr>\n",
              "      <th>4</th>\n",
              "      <td>ALFA ROMEO</td>\n",
              "      <td>156</td>\n",
              "      <td>PK00005</td>\n",
              "    </tr>\n",
              "  </tbody>\n",
              "</table>\n",
              "</div>"
            ],
            "text/plain": [
              "     carBrand carModelCode backendPrimaryKey\n",
              "0  ALFA ROMEO          145           PK00001\n",
              "1  ALFA ROMEO          146           PK00002\n",
              "2  ALFA ROMEO          147           PK00003\n",
              "3  ALFA ROMEO          155           PK00004\n",
              "4  ALFA ROMEO          156           PK00005"
            ]
          },
          "metadata": {
            "tags": []
          },
          "execution_count": 18
        }
      ]
    },
    {
      "cell_type": "code",
      "metadata": {
        "id": "BXOkviK6Ylzf",
        "colab": {
          "base_uri": "https://localhost:8080/"
        },
        "outputId": "9532e0c4-9e19-4022-92a9-afb3fc08c641"
      },
      "source": [
        "df['Bucket'] = ''\n",
        "counter = 0\n",
        "print('Print only 5 outputs for illustration purposes.')\n",
        "\n",
        "for idx, row in df.iterrows():\n",
        "  # Build a list of car model code for each car brands\n",
        "  bucketing_dict = {}\n",
        "  for carBrand in df.loc[idx, 'carBrand_recog'].split(','):\n",
        "    bucketing_dict = {row['carModelCode']: row['backendPrimaryKey'] for row in df_bucket[df_bucket['carBrand'] == carBrand].to_dict(orient='records')}\n",
        "\n",
        "  # Associate listings to specific car model based on model code\n",
        "  target_col = ['LISTING TITLE_copy', 'LISTING DESCRIPTION_copy']\n",
        "  for col in target_col:\n",
        "    for key in bucketing_dict.keys():\n",
        "      if key in row[col].split() and bucketing_dict[key] not in df.loc[idx, 'Bucket']:\n",
        "        df.loc[idx, 'Bucket'] += bucketing_dict[key] + ','\n",
        "\n",
        "        if counter < 5:\n",
        "          print('found:', key, '\\t bucket to:', bucketing_dict[key])\n",
        "          counter += 1"
      ],
      "execution_count": 19,
      "outputs": [
        {
          "output_type": "stream",
          "text": [
            "Print only 5 outputs for illustration purposes.\n",
            "found: rn6 \t bucket to: PK00196\n",
            "found: rn8 \t bucket to: PK00198\n",
            "found: rn7 \t bucket to: PK00197\n",
            "found: rn9 \t bucket to: PK00199\n",
            "found: acr50 \t bucket to: PK00562\n"
          ],
          "name": "stdout"
        }
      ]
    },
    {
      "cell_type": "code",
      "metadata": {
        "id": "AHDJTe3hL1wC",
        "colab": {
          "base_uri": "https://localhost:8080/",
          "height": 345
        },
        "outputId": "42e80455-b8f7-404b-d228-cc7ae0d2a145"
      },
      "source": [
        "df.to_csv('partially-cleaned-data.csv')\n",
        "display(df.head())"
      ],
      "execution_count": 20,
      "outputs": [
        {
          "output_type": "display_data",
          "data": {
            "text/html": [
              "<div>\n",
              "<style scoped>\n",
              "    .dataframe tbody tr th:only-of-type {\n",
              "        vertical-align: middle;\n",
              "    }\n",
              "\n",
              "    .dataframe tbody tr th {\n",
              "        vertical-align: top;\n",
              "    }\n",
              "\n",
              "    .dataframe thead th {\n",
              "        text-align: right;\n",
              "    }\n",
              "</style>\n",
              "<table border=\"1\" class=\"dataframe\">\n",
              "  <thead>\n",
              "    <tr style=\"text-align: right;\">\n",
              "      <th></th>\n",
              "      <th>LISTING DATE</th>\n",
              "      <th>LISTING TITLE</th>\n",
              "      <th>PRICE</th>\n",
              "      <th>LISTING DESCRIPTION</th>\n",
              "      <th>LISTING LOCATION</th>\n",
              "      <th>LISTING TITLE_copy</th>\n",
              "      <th>LISTING DESCRIPTION_copy</th>\n",
              "      <th>LISTING DATE_month</th>\n",
              "      <th>carBrand_recog</th>\n",
              "      <th>irrelevantItemType_recog</th>\n",
              "      <th>year_recog</th>\n",
              "      <th>cc_recog</th>\n",
              "      <th>Bucket</th>\n",
              "    </tr>\n",
              "  </thead>\n",
              "  <tbody>\n",
              "    <tr>\n",
              "      <th>0</th>\n",
              "      <td>2020 Jan 10, 15:10</td>\n",
              "      <td>Honda Stream RN6 RN8 RSZ Power Steering Rack ECU</td>\n",
              "      <td>250</td>\n",
              "      <td>Genuine Honda Stream Power Steering Rack ECU C...</td>\n",
              "      <td>Selangor</td>\n",
              "      <td>stream rn6 rn8 rsz</td>\n",
              "      <td>genuine stream ecu computer suitable model  rn...</td>\n",
              "      <td>2020-01</td>\n",
              "      <td>HONDA</td>\n",
              "      <td>ECU,</td>\n",
              "      <td></td>\n",
              "      <td></td>\n",
              "      <td>PK00196,PK00198,PK00197,PK00199,</td>\n",
              "    </tr>\n",
              "    <tr>\n",
              "      <th>1</th>\n",
              "      <td>2020 Jan 10, 12:00</td>\n",
              "      <td>Original steering rack toyota vellfire estima ...</td>\n",
              "      <td>350</td>\n",
              "      <td>Original steering rack toyota vellfire estima ...</td>\n",
              "      <td>Kuala Lumpur</td>\n",
              "      <td>vellfire estima alph</td>\n",
              "      <td>vellfire estima acr50 estima acr50 vellfire al...</td>\n",
              "      <td>2020-01</td>\n",
              "      <td>TOYOTA</td>\n",
              "      <td></td>\n",
              "      <td></td>\n",
              "      <td></td>\n",
              "      <td>PK00562,</td>\n",
              "    </tr>\n",
              "    <tr>\n",
              "      <th>2</th>\n",
              "      <td>2020 Jan 10, 12:00</td>\n",
              "      <td>Original steering rack toyota vellfire estima ...</td>\n",
              "      <td>600</td>\n",
              "      <td>Original steering rack toyota vellfire estima ...</td>\n",
              "      <td>Kuala Lumpur</td>\n",
              "      <td>vellfire estima alph</td>\n",
              "      <td>vellfire estima acr50 estima acr50 vellfire al...</td>\n",
              "      <td>2020-01</td>\n",
              "      <td>TOYOTA</td>\n",
              "      <td></td>\n",
              "      <td></td>\n",
              "      <td></td>\n",
              "      <td>PK00562,</td>\n",
              "    </tr>\n",
              "    <tr>\n",
              "      <th>3</th>\n",
              "      <td>2020 Jan 9, 19:35</td>\n",
              "      <td>ORIGINAL steering rack Alphard estima harrier</td>\n",
              "      <td>550</td>\n",
              "      <td>Estima acr30\\nHarrier acu30\\nAlphard anh10 mnh...</td>\n",
              "      <td>Kuala Lumpur</td>\n",
              "      <td>alphard estima harrier</td>\n",
              "      <td>estima acr30 harrier acu30 alphard anh10 mnh10...</td>\n",
              "      <td>2020-01</td>\n",
              "      <td>TOYOTA</td>\n",
              "      <td></td>\n",
              "      <td></td>\n",
              "      <td></td>\n",
              "      <td>PK00518,PK00558,PK00572,</td>\n",
              "    </tr>\n",
              "    <tr>\n",
              "      <th>4</th>\n",
              "      <td>2020 Jan 9, 12:20</td>\n",
              "      <td>Toyota Isis ANM10 Power Steering Rack</td>\n",
              "      <td>250</td>\n",
              "      <td>Toyota Isis ANM10 Power Steering Rack\\nImporte...</td>\n",
              "      <td>Selangor</td>\n",
              "      <td>isis anm10</td>\n",
              "      <td>isis anm10 imported genuine good quality japan...</td>\n",
              "      <td>2020-01</td>\n",
              "      <td>TOYOTA</td>\n",
              "      <td></td>\n",
              "      <td></td>\n",
              "      <td></td>\n",
              "      <td>PK00509,</td>\n",
              "    </tr>\n",
              "  </tbody>\n",
              "</table>\n",
              "</div>"
            ],
            "text/plain": [
              "         LISTING DATE  ...                            Bucket\n",
              "0  2020 Jan 10, 15:10  ...  PK00196,PK00198,PK00197,PK00199,\n",
              "1  2020 Jan 10, 12:00  ...                          PK00562,\n",
              "2  2020 Jan 10, 12:00  ...                          PK00562,\n",
              "3   2020 Jan 9, 19:35  ...          PK00518,PK00558,PK00572,\n",
              "4   2020 Jan 9, 12:20  ...                          PK00509,\n",
              "\n",
              "[5 rows x 13 columns]"
            ]
          },
          "metadata": {
            "tags": []
          }
        }
      ]
    },
    {
      "cell_type": "markdown",
      "metadata": {
        "id": "mdwlrxL1mj0k"
      },
      "source": [
        "While our script manage to automatically clean a good amount of lines, it did not clean every single listings.\n",
        "\n",
        "This is partly due to the quality of data source as some listings have incomplete information. For example, some listings only specify the generic car model name but not the car model code or year model. If the car model have multiple generations such as:-\n",
        "\n",
        "* Toyota Vios (2003 - 2007)\n",
        "* Toyota Vios (2008 - 2013)\n",
        "* Toyota Vios (2013 - 2018)\n",
        "\n",
        "... then we won't be able to bucket them accurately. These remaining lines will require manual cleaning by looking at the listing images or perhaps even calling the vendor to clarify."
      ]
    },
    {
      "cell_type": "markdown",
      "metadata": {
        "id": "ZHV1fy-uQrxJ"
      },
      "source": [
        "# Visualizing the Data <a name=\"visualizing-the-data\"></a>\n",
        "\n",
        "Granted that the data is not entirely clean yet, I wanted to skip ahead and explore a few graphs that I'm particularly interested in just to see how everything would come together."
      ]
    },
    {
      "cell_type": "code",
      "metadata": {
        "colab": {
          "base_uri": "https://localhost:8080/",
          "height": 731
        },
        "id": "xhNbE6OvSC13",
        "outputId": "aaa73873-054b-4677-b964-e5ec4cae6bf5"
      },
      "source": [
        "df_plot = pd.DataFrame(columns=['CAR BRAND', 'PRICE'])\n",
        "for idx, brands in enumerate(df['carBrand_recog']):\n",
        "  for brand in brands.split(','):\n",
        "    new_row = {'CAR BRAND': brand, 'PRICE': df.loc[idx, 'PRICE']}\n",
        "    df_plot = df_plot.append(new_row, ignore_index=True)\n",
        "\n",
        "# Show only top 10 brands with the highest count.\n",
        "df_plot['CAR BRAND'] = df_plot['CAR BRAND'].replace('', 'UNKNOWN')\n",
        "df_plot.sort_values(by=['CAR BRAND'], inplace=True)\n",
        "top_10_brands = df_plot['CAR BRAND'].value_counts().head(10)  \n",
        "\n",
        "# Plot the graph\n",
        "sns.set_style(\"darkgrid\")\n",
        "fig = plt.figure(figsize=(37.5, 15))\n",
        "\n",
        "ax = sns.boxplot(x='CAR BRAND', y='PRICE', data=df_plot[df_plot['CAR BRAND'].isin(top_10_brands.index)])\n",
        "sns.swarmplot(x='CAR BRAND', y='PRICE', data=df_plot[df_plot['CAR BRAND'].isin(top_10_brands.index)], color='k', alpha=0.7)\n",
        "\n",
        "fig.set_size_inches(25,10)\n",
        "plt.ylim(0, 3000)\n",
        "ax.get_xaxis().set_minor_locator(mpl.ticker.AutoMinorLocator())\n",
        "ax.get_yaxis().set_minor_locator(mpl.ticker.AutoMinorLocator())\n",
        "ax.grid(axis='y', b=True, which='major', linewidth=1.5)\n",
        "ax.grid(axis='y', b=True, which='minor', linewidth=0.5)\n",
        "ax.grid(axis='x', b=False)\n",
        "\n",
        "ax.set_title('Price Trend for Top 10 Car Brands', fontsize=20)\n",
        "plt.ylabel('PRICE (RM)')\n",
        "plt.xlabel('CAR BRAND')\n",
        "plt.xticks(rotation=-60)"
      ],
      "execution_count": 21,
      "outputs": [
        {
          "output_type": "execute_result",
          "data": {
            "text/plain": [
              "(array([0, 1, 2, 3, 4, 5, 6, 7, 8, 9]),\n",
              " <a list of 10 Text major ticklabel objects>)"
            ]
          },
          "metadata": {
            "tags": []
          },
          "execution_count": 21
        },
        {
          "output_type": "display_data",
          "data": {
            "image/png": "[encoded data removed]",
            "text/plain": [
              "<Figure size 1800x720 with 1 Axes>"
            ]
          },
          "metadata": {
            "tags": []
          }
        }
      ]
    },
    {
      "cell_type": "markdown",
      "metadata": {
        "id": "gwSJyHpafVU8"
      },
      "source": [
        "Since we bucketed each online listing to their respective car model, we can go more granular and visualize the price trend for each individual car model. I've chosen to plot the median price to prevent outliers from skewing the data.\n",
        "\n",
        "****Note that our data set consists of data from 9th of November 2020 to 10th of January 2020 only.**"
      ]
    },
    {
      "cell_type": "code",
      "metadata": {
        "id": "Ue5ItW_dWVvH",
        "colab": {
          "base_uri": "https://localhost:8080/",
          "height": 645
        },
        "outputId": "903a8e5f-eece-425e-d1ea-6b8def64093c"
      },
      "source": [
        "from datetime import date\n",
        "\n",
        "target_item = 'PK00624'\n",
        "\n",
        "# Set default date range to rolling 12 months.\n",
        "month_start = (date.today() - relativedelta(months=12)).strftime('%Y-%m')\n",
        "month_end = date.today().strftime('%Y-%m')\n",
        "month_range = pd.date_range(month_start, month_end, freq='M').strftime('%Y-%m')\n",
        "\n",
        "# Fill df with relevant data for plotting\n",
        "df_plot = pd.DataFrame()\n",
        "df_plot['DATE'] = month_range\n",
        "for idx, date in enumerate(df_plot['DATE']):\n",
        "  price_list = df[(df['Bucket'].str.contains(target_item)) & (df['LISTING DATE_month'] == date)]['PRICE']\n",
        "  if price_list.empty: \n",
        "    df_plot.loc[idx, 'PRICE'] = 0\n",
        "  else:\n",
        "    df_plot.loc[idx, 'PRICE'] = statistics.median(price_list)\n",
        "\n",
        "  df_plot.loc[idx, 'COUNT'] = len(df[(df['Bucket'] == target_item) & (df['LISTING DATE_month'] == date)])\n",
        "\n",
        "# Plot the graph\n",
        "sns.set_style(\"darkgrid\")\n",
        "plt.figure(figsize=(25, 10))\n",
        "\n",
        "ax = sns.scatterplot(data=df_plot, x='DATE', y='PRICE', s=60)\n",
        "\n",
        "ax.set(ylim=(0, max(df_plot['PRICE'])+50))\n",
        "ax.get_xaxis().set_minor_locator(mpl.ticker.AutoMinorLocator())\n",
        "ax.get_yaxis().set_minor_locator(mpl.ticker.AutoMinorLocator())\n",
        "ax.grid(axis='y', b=True, which='major', linewidth=1.5)\n",
        "ax.grid(axis='y', b=True, which='minor', linewidth=0.5)\n",
        "ax.grid(axis='x', b=False)\n",
        "ax.set_title('Steering Rack Price Trend for {}'.format(target_item), fontsize=20)\n",
        "plt.ylabel('PRICE (RM)')\n",
        "plt.xlabel('YEAR-MONTH')"
      ],
      "execution_count": 22,
      "outputs": [
        {
          "output_type": "execute_result",
          "data": {
            "text/plain": [
              "Text(0.5, 0, 'YEAR-MONTH')"
            ]
          },
          "metadata": {
            "tags": []
          },
          "execution_count": 22
        },
        {
          "output_type": "display_data",
          "data": {
            "image/png": "[encoded data removed]",
            "text/plain": [
              "<Figure size 1800x720 with 1 Axes>"
            ]
          },
          "metadata": {
            "tags": []
          }
        }
      ]
    },
    {
      "cell_type": "markdown",
      "metadata": {
        "id": "zxZbBKCPNn3p"
      },
      "source": [
        "# Evaluating Accuracy <a name=\"evaluating-accuracy\"></a>\n",
        "To gauge how well our rule-based approach is working, I've taken the liberty to manually clean 556 rows of the data. The purpose is to find out how many lines are we able to clean automatically and its accuracy. Here is a summary:-\n",
        "\n",
        "**How many car brands did we label?**\n",
        "\n",
        "Of the 556 listings, we managed to retrieve car brands for 98.5% of the lines from either listing title or listing description. Because car brands names are unique, all of them are correctly labelled.\n",
        "\n",
        "* 77.5% of the car brands are direct matches with keywords\n",
        "* 21% of the car brands are inferred from car model\n",
        "* 100% accuracy\n",
        "\n",
        "**How many listings did we clean?**\n",
        "\n",
        "Of the 556 listings, we managed to bucket 65% of the lines to their respective car model with 100% accuracy. The high accuracy is attributed to the fact that car model codes are unique _within_ car brands and we would only associate the car model code if we know the car brand.\n",
        "\n",
        "* 65% are cleaned by matching both car brand and car model code\n",
        "* 100% accuracy\n",
        "\n",
        "It's worth noting that the number of lines bucketed relies on the completeness of our list of car model code. The more car model code we are able to collect in our database, the higher the accuracy. Therefore, it's important to feed new data found from manual cleaning into the database to further improve coverage."
      ]
    },
    {
      "cell_type": "markdown",
      "metadata": {
        "id": "dfwvr60nSaRs"
      },
      "source": [
        "# Going Forward\n",
        "\n",
        "This project managed to automate ~65% of our data cleaning which is a satisfactory outcome. Can this number be higher? Well, I do believe that we can further improve the outcome by using the car model years to help infer its car model. Perhaps we can even consider an alternative source of data with a cleaner structure. The beauty of this string matching method is that, with a few minor adjustment, it will work across different datasets as well as long as it's automotive related.\n",
        "\n",
        "But as of now, I believe it's more important that we establish the effort to maintain this cycle of data scraping, data cleaning with script, manual data cleaning, updating database until we get to a sufficiently large data pool. \n",
        "\n",
        "With enough data, we can deduce better insights. With better insights, better business decisions will follow."
      ]
    }
  ]
}